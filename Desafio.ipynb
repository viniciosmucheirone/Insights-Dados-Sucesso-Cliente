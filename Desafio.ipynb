{
 "cells": [
  {
   "cell_type": "markdown",
   "id": "1208a26f-5e67-471b-9a0f-5301e7e3bfe9",
   "metadata": {},
   "source": [
    "### Importação dos dados do Excel "
   ]
  },
  {
   "cell_type": "code",
   "execution_count": 392,
   "id": "45baeb9a-59cc-48c2-8d78-a7651f6606e0",
   "metadata": {},
   "outputs": [],
   "source": [
    "import pandas as pd"
   ]
  },
  {
   "cell_type": "code",
   "execution_count": 393,
   "id": "1bd0cbf8-ae97-40a5-b5dd-7f9ab241b3d8",
   "metadata": {},
   "outputs": [
    {
     "name": "stdout",
     "output_type": "stream",
     "text": [
      "['Atividades', 'Clientes']\n"
     ]
    }
   ],
   "source": [
    "arquivo = pd.ExcelFile(\"Downloads/(desafio)_base_case_estágio_em_sucesso_do_cliente_-_dados_&_processos.xlsx\")\n",
    "print(arquivo.sheet_names)"
   ]
  },
  {
   "cell_type": "code",
   "execution_count": 394,
   "id": "dd5c8e44-b618-4afa-91a7-1c6cf0b3c61d",
   "metadata": {},
   "outputs": [],
   "source": [
    "atividades = pd.read_excel(arquivo, sheet_name=\"Atividades\")\n",
    "clientes = pd.read_excel(arquivo, sheet_name=\"Clientes\")"
   ]
  },
  {
   "cell_type": "markdown",
   "id": "6c414325-28f8-4074-abec-e7ef098cc7df",
   "metadata": {},
   "source": [
    "### Limpeza e Padronização dos Dados"
   ]
  },
  {
   "cell_type": "code",
   "execution_count": 396,
   "id": "f08e3092-5c71-4cb6-b544-36cb27b4c101",
   "metadata": {},
   "outputs": [],
   "source": [
    "# Aqui estou removendo espaços extras nos nomes de colunas\n",
    "atividades.columns = atividades.columns.str.strip()"
   ]
  },
  {
   "cell_type": "code",
   "execution_count": 397,
   "id": "b554ad58-f7d9-446a-b779-63cd8c7ea8fa",
   "metadata": {},
   "outputs": [],
   "source": [
    "# Padronizando os campos de texto para minúsculas e removendo espaços extras\n",
    "colunas_texto_atividades = ['Cliente', 'Responsável', 'Tipo', 'Prioridade', 'Status', 'Observações']\n",
    "for col in colunas_texto_atividades:\n",
    "    atividades[col] = atividades[col].str.strip().str.lower()"
   ]
  },
  {
   "cell_type": "code",
   "execution_count": 398,
   "id": "9604cfaa-a8fc-488c-83f0-169ac207b85a",
   "metadata": {},
   "outputs": [],
   "source": [
    "# Corrigindo as datas\n",
    "atividades['Prazo de Conclusão'] = pd.to_datetime(atividades['Prazo de Conclusão'], errors='coerce')\n",
    "atividades['Data de Conclusão'] = pd.to_datetime(atividades['Data de Conclusão'], errors='coerce')"
   ]
  },
  {
   "cell_type": "code",
   "execution_count": 399,
   "id": "1d8d0e96-8c2f-4ca8-8535-5bebad4441c6",
   "metadata": {},
   "outputs": [],
   "source": [
    "# Preencher valores nulos nas \"Observações\" com uma string padrão (como 'sem observação')\n",
    "atividades['Observações'] = atividades['Observações'].fillna(\"sem observação\")"
   ]
  },
  {
   "cell_type": "code",
   "execution_count": 400,
   "id": "c8c3a548-96c8-4fe7-9f1f-135dcb8c19d4",
   "metadata": {},
   "outputs": [
    {
     "name": "stdout",
     "output_type": "stream",
     "text": [
      "Cliente                 0\n",
      "Responsável             0\n",
      "Tipo                    0\n",
      "Prioridade              0\n",
      "Prazo de Conclusão      0\n",
      "Data de Conclusão     180\n",
      "Status                  0\n",
      "Observações             0\n",
      "dtype: int64\n"
     ]
    }
   ],
   "source": [
    "# Verificar a existência de  valores nulos depois da limpeza\n",
    "print(atividades.isnull().sum())"
   ]
  },
  {
   "cell_type": "code",
   "execution_count": 401,
   "id": "3944bd82-49ac-4f1e-a32f-f80ea908e62b",
   "metadata": {},
   "outputs": [],
   "source": [
    "# Unificar os valores \"e-mail\" e \"email\" em \"e-mail\"\n",
    "atividades['Tipo'] = atividades['Tipo'].str.replace('email', 'e-mail', case=False)\n"
   ]
  },
  {
   "cell_type": "code",
   "execution_count": 402,
   "id": "4a0f8fa4-d78b-41de-a487-d521e6af68cf",
   "metadata": {},
   "outputs": [
    {
     "name": "stdout",
     "output_type": "stream",
     "text": [
      "['reunião com o cliente' 'ligação' 'atividade' 'reunião interna' 'e-mail'\n",
      " 'tarefa' 'whatsapp']\n"
     ]
    }
   ],
   "source": [
    "# Verificar se a substituição foi feita corretamente\n",
    "print(atividades['Tipo'].unique())"
   ]
  },
  {
   "cell_type": "code",
   "execution_count": 403,
   "id": "f6e679b2-9e18-46c7-be99-df29dc020d10",
   "metadata": {},
   "outputs": [
    {
     "data": {
      "text/html": [
       "<div>\n",
       "<style scoped>\n",
       "    .dataframe tbody tr th:only-of-type {\n",
       "        vertical-align: middle;\n",
       "    }\n",
       "\n",
       "    .dataframe tbody tr th {\n",
       "        vertical-align: top;\n",
       "    }\n",
       "\n",
       "    .dataframe thead th {\n",
       "        text-align: right;\n",
       "    }\n",
       "</style>\n",
       "<table border=\"1\" class=\"dataframe\">\n",
       "  <thead>\n",
       "    <tr style=\"text-align: right;\">\n",
       "      <th></th>\n",
       "      <th>Cliente</th>\n",
       "      <th>Responsável</th>\n",
       "      <th>Tipo</th>\n",
       "      <th>Prioridade</th>\n",
       "      <th>Prazo de Conclusão</th>\n",
       "      <th>Data de Conclusão</th>\n",
       "      <th>Status</th>\n",
       "      <th>Observações</th>\n",
       "    </tr>\n",
       "  </thead>\n",
       "  <tbody>\n",
       "    <tr>\n",
       "      <th>0</th>\n",
       "      <td>cliente 1</td>\n",
       "      <td>ana</td>\n",
       "      <td>reunião com o cliente</td>\n",
       "      <td>alta</td>\n",
       "      <td>2025-01-01</td>\n",
       "      <td>2025-01-06</td>\n",
       "      <td>concluída</td>\n",
       "      <td>problemas técnicos</td>\n",
       "    </tr>\n",
       "    <tr>\n",
       "      <th>1</th>\n",
       "      <td>cliente 1</td>\n",
       "      <td>ana</td>\n",
       "      <td>ligação</td>\n",
       "      <td>baixa</td>\n",
       "      <td>2025-01-03</td>\n",
       "      <td>NaT</td>\n",
       "      <td>vencida</td>\n",
       "      <td>sem observação</td>\n",
       "    </tr>\n",
       "    <tr>\n",
       "      <th>2</th>\n",
       "      <td>cliente 1</td>\n",
       "      <td>ana</td>\n",
       "      <td>atividade</td>\n",
       "      <td>alta</td>\n",
       "      <td>2025-01-04</td>\n",
       "      <td>NaT</td>\n",
       "      <td>vencida</td>\n",
       "      <td>sem observação</td>\n",
       "    </tr>\n",
       "    <tr>\n",
       "      <th>3</th>\n",
       "      <td>cliente 1</td>\n",
       "      <td>ana</td>\n",
       "      <td>reunião com o cliente</td>\n",
       "      <td>alta</td>\n",
       "      <td>2025-01-18</td>\n",
       "      <td>2025-01-19</td>\n",
       "      <td>concluída</td>\n",
       "      <td>problema técnico</td>\n",
       "    </tr>\n",
       "    <tr>\n",
       "      <th>4</th>\n",
       "      <td>cliente 1</td>\n",
       "      <td>ana</td>\n",
       "      <td>reunião interna</td>\n",
       "      <td>alta</td>\n",
       "      <td>2025-01-21</td>\n",
       "      <td>2025-01-18</td>\n",
       "      <td>concluída</td>\n",
       "      <td>sem observação</td>\n",
       "    </tr>\n",
       "    <tr>\n",
       "      <th>...</th>\n",
       "      <td>...</td>\n",
       "      <td>...</td>\n",
       "      <td>...</td>\n",
       "      <td>...</td>\n",
       "      <td>...</td>\n",
       "      <td>...</td>\n",
       "      <td>...</td>\n",
       "      <td>...</td>\n",
       "    </tr>\n",
       "    <tr>\n",
       "      <th>1008</th>\n",
       "      <td>cliente 91</td>\n",
       "      <td>ana</td>\n",
       "      <td>whatsapp</td>\n",
       "      <td>alta</td>\n",
       "      <td>2025-02-06</td>\n",
       "      <td>2025-02-11</td>\n",
       "      <td>concluída</td>\n",
       "      <td>sem observação</td>\n",
       "    </tr>\n",
       "    <tr>\n",
       "      <th>1009</th>\n",
       "      <td>cliente 91</td>\n",
       "      <td>ana</td>\n",
       "      <td>reunião com o cliente</td>\n",
       "      <td>alta</td>\n",
       "      <td>2025-02-11</td>\n",
       "      <td>2025-02-19</td>\n",
       "      <td>concluída</td>\n",
       "      <td>problemas técnicos</td>\n",
       "    </tr>\n",
       "    <tr>\n",
       "      <th>1010</th>\n",
       "      <td>cliente 92</td>\n",
       "      <td>ana</td>\n",
       "      <td>reunião com o cliente</td>\n",
       "      <td>baixa</td>\n",
       "      <td>2025-03-16</td>\n",
       "      <td>2025-03-20</td>\n",
       "      <td>concluída</td>\n",
       "      <td>treinamento</td>\n",
       "    </tr>\n",
       "    <tr>\n",
       "      <th>1011</th>\n",
       "      <td>cliente 93</td>\n",
       "      <td>ana</td>\n",
       "      <td>tarefa</td>\n",
       "      <td>baixa</td>\n",
       "      <td>2025-02-06</td>\n",
       "      <td>2025-02-11</td>\n",
       "      <td>concluída</td>\n",
       "      <td>sem observação</td>\n",
       "    </tr>\n",
       "    <tr>\n",
       "      <th>1012</th>\n",
       "      <td>cliente 93</td>\n",
       "      <td>ana</td>\n",
       "      <td>reunião com o cliente</td>\n",
       "      <td>alta</td>\n",
       "      <td>2025-03-13</td>\n",
       "      <td>2025-03-20</td>\n",
       "      <td>concluída</td>\n",
       "      <td>problema técnico</td>\n",
       "    </tr>\n",
       "  </tbody>\n",
       "</table>\n",
       "<p>1013 rows × 8 columns</p>\n",
       "</div>"
      ],
      "text/plain": [
       "         Cliente Responsável                   Tipo Prioridade  \\\n",
       "0      cliente 1         ana  reunião com o cliente       alta   \n",
       "1      cliente 1         ana                ligação      baixa   \n",
       "2      cliente 1         ana              atividade       alta   \n",
       "3      cliente 1         ana  reunião com o cliente       alta   \n",
       "4      cliente 1         ana        reunião interna       alta   \n",
       "...          ...         ...                    ...        ...   \n",
       "1008  cliente 91         ana               whatsapp       alta   \n",
       "1009  cliente 91         ana  reunião com o cliente       alta   \n",
       "1010  cliente 92         ana  reunião com o cliente      baixa   \n",
       "1011  cliente 93         ana                 tarefa      baixa   \n",
       "1012  cliente 93         ana  reunião com o cliente       alta   \n",
       "\n",
       "     Prazo de Conclusão Data de Conclusão     Status         Observações  \n",
       "0            2025-01-01        2025-01-06  concluída  problemas técnicos  \n",
       "1            2025-01-03               NaT    vencida      sem observação  \n",
       "2            2025-01-04               NaT    vencida      sem observação  \n",
       "3            2025-01-18        2025-01-19  concluída    problema técnico  \n",
       "4            2025-01-21        2025-01-18  concluída      sem observação  \n",
       "...                 ...               ...        ...                 ...  \n",
       "1008         2025-02-06        2025-02-11  concluída      sem observação  \n",
       "1009         2025-02-11        2025-02-19  concluída  problemas técnicos  \n",
       "1010         2025-03-16        2025-03-20  concluída         treinamento  \n",
       "1011         2025-02-06        2025-02-11  concluída      sem observação  \n",
       "1012         2025-03-13        2025-03-20  concluída    problema técnico  \n",
       "\n",
       "[1013 rows x 8 columns]"
      ]
     },
     "metadata": {},
     "output_type": "display_data"
    }
   ],
   "source": [
    "display(atividades)"
   ]
  },
  {
   "cell_type": "code",
   "execution_count": 404,
   "id": "4e4562f5-72c2-4e21-b8e5-ceaf6f1e5275",
   "metadata": {},
   "outputs": [],
   "source": [
    "# Eliminando espaços extras em nomes de colunas\n",
    "clientes.columns = clientes.columns.str.strip()"
   ]
  },
  {
   "cell_type": "code",
   "execution_count": 405,
   "id": "49595d27-adfa-4ebc-85f9-3979b4356e55",
   "metadata": {},
   "outputs": [],
   "source": [
    "# Padronizando texto como minúsculas nas colunas relevantes\n",
    "clientes['Cliente'] = clientes['Cliente'].str.strip().str.lower()\n",
    "clientes['Responsável'] = clientes['Responsável'].str.strip().str.lower()\n",
    "clientes['Fase'] = clientes['Fase'].str.strip().str.lower()"
   ]
  },
  {
   "cell_type": "code",
   "execution_count": 406,
   "id": "da3b2b1c-1b05-4f7e-9f57-ce14439db834",
   "metadata": {},
   "outputs": [
    {
     "name": "stdout",
     "output_type": "stream",
     "text": [
      "Cliente        0\n",
      "Responsável    0\n",
      "MRR            0\n",
      "Fase           0\n",
      "dtype: int64\n"
     ]
    }
   ],
   "source": [
    "# Verificando se possui valores nulos\n",
    "print(clientes.isnull().sum())"
   ]
  },
  {
   "cell_type": "code",
   "execution_count": 407,
   "id": "92373720-d02f-4cd0-ae14-a27acb79b8f5",
   "metadata": {},
   "outputs": [
    {
     "data": {
      "text/html": [
       "<div>\n",
       "<style scoped>\n",
       "    .dataframe tbody tr th:only-of-type {\n",
       "        vertical-align: middle;\n",
       "    }\n",
       "\n",
       "    .dataframe tbody tr th {\n",
       "        vertical-align: top;\n",
       "    }\n",
       "\n",
       "    .dataframe thead th {\n",
       "        text-align: right;\n",
       "    }\n",
       "</style>\n",
       "<table border=\"1\" class=\"dataframe\">\n",
       "  <thead>\n",
       "    <tr style=\"text-align: right;\">\n",
       "      <th></th>\n",
       "      <th>Cliente</th>\n",
       "      <th>Responsável</th>\n",
       "      <th>MRR</th>\n",
       "      <th>Fase</th>\n",
       "    </tr>\n",
       "  </thead>\n",
       "  <tbody>\n",
       "    <tr>\n",
       "      <th>0</th>\n",
       "      <td>cliente 1</td>\n",
       "      <td>ana</td>\n",
       "      <td>15971</td>\n",
       "      <td>acompanhamento</td>\n",
       "    </tr>\n",
       "    <tr>\n",
       "      <th>1</th>\n",
       "      <td>cliente 10</td>\n",
       "      <td>rafael</td>\n",
       "      <td>1299</td>\n",
       "      <td>onboarding</td>\n",
       "    </tr>\n",
       "    <tr>\n",
       "      <th>2</th>\n",
       "      <td>cliente 108</td>\n",
       "      <td>pedro</td>\n",
       "      <td>2890</td>\n",
       "      <td>adoção</td>\n",
       "    </tr>\n",
       "    <tr>\n",
       "      <th>3</th>\n",
       "      <td>cliente 109</td>\n",
       "      <td>pedro</td>\n",
       "      <td>1165</td>\n",
       "      <td>adoção</td>\n",
       "    </tr>\n",
       "    <tr>\n",
       "      <th>4</th>\n",
       "      <td>cliente 11</td>\n",
       "      <td>ana</td>\n",
       "      <td>17629</td>\n",
       "      <td>adoção</td>\n",
       "    </tr>\n",
       "    <tr>\n",
       "      <th>...</th>\n",
       "      <td>...</td>\n",
       "      <td>...</td>\n",
       "      <td>...</td>\n",
       "      <td>...</td>\n",
       "    </tr>\n",
       "    <tr>\n",
       "      <th>102</th>\n",
       "      <td>cliente 9</td>\n",
       "      <td>pedro</td>\n",
       "      <td>3820</td>\n",
       "      <td>adoção</td>\n",
       "    </tr>\n",
       "    <tr>\n",
       "      <th>103</th>\n",
       "      <td>cliente 90</td>\n",
       "      <td>rafael</td>\n",
       "      <td>3029</td>\n",
       "      <td>acompanhamento</td>\n",
       "    </tr>\n",
       "    <tr>\n",
       "      <th>104</th>\n",
       "      <td>cliente 91</td>\n",
       "      <td>ana</td>\n",
       "      <td>12346</td>\n",
       "      <td>adoção</td>\n",
       "    </tr>\n",
       "    <tr>\n",
       "      <th>105</th>\n",
       "      <td>cliente 92</td>\n",
       "      <td>ana</td>\n",
       "      <td>11240</td>\n",
       "      <td>acompanhamento</td>\n",
       "    </tr>\n",
       "    <tr>\n",
       "      <th>106</th>\n",
       "      <td>cliente 93</td>\n",
       "      <td>ana</td>\n",
       "      <td>16110</td>\n",
       "      <td>acompanhamento</td>\n",
       "    </tr>\n",
       "  </tbody>\n",
       "</table>\n",
       "<p>107 rows × 4 columns</p>\n",
       "</div>"
      ],
      "text/plain": [
       "         Cliente Responsável    MRR            Fase\n",
       "0      cliente 1         ana  15971  acompanhamento\n",
       "1     cliente 10      rafael   1299      onboarding\n",
       "2    cliente 108       pedro   2890          adoção\n",
       "3    cliente 109       pedro   1165          adoção\n",
       "4     cliente 11         ana  17629          adoção\n",
       "..           ...         ...    ...             ...\n",
       "102    cliente 9       pedro   3820          adoção\n",
       "103   cliente 90      rafael   3029  acompanhamento\n",
       "104   cliente 91         ana  12346          adoção\n",
       "105   cliente 92         ana  11240  acompanhamento\n",
       "106   cliente 93         ana  16110  acompanhamento\n",
       "\n",
       "[107 rows x 4 columns]"
      ]
     },
     "metadata": {},
     "output_type": "display_data"
    }
   ],
   "source": [
    "display(clientes)"
   ]
  },
  {
   "cell_type": "code",
   "execution_count": 408,
   "id": "cd36d4c7-df54-409e-8310-ec132508aedb",
   "metadata": {},
   "outputs": [
    {
     "name": "stdout",
     "output_type": "stream",
     "text": [
      "<class 'pandas.core.frame.DataFrame'>\n",
      "RangeIndex: 107 entries, 0 to 106\n",
      "Data columns (total 4 columns):\n",
      " #   Column       Non-Null Count  Dtype \n",
      "---  ------       --------------  ----- \n",
      " 0   Cliente      107 non-null    object\n",
      " 1   Responsável  107 non-null    object\n",
      " 2   MRR          107 non-null    int64 \n",
      " 3   Fase         107 non-null    object\n",
      "dtypes: int64(1), object(3)\n",
      "memory usage: 3.5+ KB\n"
     ]
    }
   ],
   "source": [
    "clientes.info()"
   ]
  },
  {
   "cell_type": "code",
   "execution_count": 409,
   "id": "c61fb528-c758-4caa-81da-3e40548d69a6",
   "metadata": {},
   "outputs": [],
   "source": [
    "# Alterar o tipo de MRR para float \n",
    "clientes['MRR'] = clientes['MRR'].astype(float)\n",
    "\n",
    "# Configurando o pandas para exibir apenas  números com 2 casas decimais\n",
    "pd.options.display.float_format = '{:.2f}'.format"
   ]
  },
  {
   "cell_type": "code",
   "execution_count": 410,
   "id": "513906e6-7ef7-4a9f-82c8-d4b9e77e64f1",
   "metadata": {},
   "outputs": [
    {
     "data": {
      "text/html": [
       "<div>\n",
       "<style scoped>\n",
       "    .dataframe tbody tr th:only-of-type {\n",
       "        vertical-align: middle;\n",
       "    }\n",
       "\n",
       "    .dataframe tbody tr th {\n",
       "        vertical-align: top;\n",
       "    }\n",
       "\n",
       "    .dataframe thead th {\n",
       "        text-align: right;\n",
       "    }\n",
       "</style>\n",
       "<table border=\"1\" class=\"dataframe\">\n",
       "  <thead>\n",
       "    <tr style=\"text-align: right;\">\n",
       "      <th></th>\n",
       "      <th>Cliente</th>\n",
       "      <th>Responsável</th>\n",
       "      <th>MRR</th>\n",
       "      <th>Fase</th>\n",
       "    </tr>\n",
       "  </thead>\n",
       "  <tbody>\n",
       "    <tr>\n",
       "      <th>0</th>\n",
       "      <td>cliente 1</td>\n",
       "      <td>ana</td>\n",
       "      <td>15971.00</td>\n",
       "      <td>acompanhamento</td>\n",
       "    </tr>\n",
       "    <tr>\n",
       "      <th>1</th>\n",
       "      <td>cliente 10</td>\n",
       "      <td>rafael</td>\n",
       "      <td>1299.00</td>\n",
       "      <td>onboarding</td>\n",
       "    </tr>\n",
       "    <tr>\n",
       "      <th>2</th>\n",
       "      <td>cliente 108</td>\n",
       "      <td>pedro</td>\n",
       "      <td>2890.00</td>\n",
       "      <td>adoção</td>\n",
       "    </tr>\n",
       "    <tr>\n",
       "      <th>3</th>\n",
       "      <td>cliente 109</td>\n",
       "      <td>pedro</td>\n",
       "      <td>1165.00</td>\n",
       "      <td>adoção</td>\n",
       "    </tr>\n",
       "    <tr>\n",
       "      <th>4</th>\n",
       "      <td>cliente 11</td>\n",
       "      <td>ana</td>\n",
       "      <td>17629.00</td>\n",
       "      <td>adoção</td>\n",
       "    </tr>\n",
       "    <tr>\n",
       "      <th>...</th>\n",
       "      <td>...</td>\n",
       "      <td>...</td>\n",
       "      <td>...</td>\n",
       "      <td>...</td>\n",
       "    </tr>\n",
       "    <tr>\n",
       "      <th>102</th>\n",
       "      <td>cliente 9</td>\n",
       "      <td>pedro</td>\n",
       "      <td>3820.00</td>\n",
       "      <td>adoção</td>\n",
       "    </tr>\n",
       "    <tr>\n",
       "      <th>103</th>\n",
       "      <td>cliente 90</td>\n",
       "      <td>rafael</td>\n",
       "      <td>3029.00</td>\n",
       "      <td>acompanhamento</td>\n",
       "    </tr>\n",
       "    <tr>\n",
       "      <th>104</th>\n",
       "      <td>cliente 91</td>\n",
       "      <td>ana</td>\n",
       "      <td>12346.00</td>\n",
       "      <td>adoção</td>\n",
       "    </tr>\n",
       "    <tr>\n",
       "      <th>105</th>\n",
       "      <td>cliente 92</td>\n",
       "      <td>ana</td>\n",
       "      <td>11240.00</td>\n",
       "      <td>acompanhamento</td>\n",
       "    </tr>\n",
       "    <tr>\n",
       "      <th>106</th>\n",
       "      <td>cliente 93</td>\n",
       "      <td>ana</td>\n",
       "      <td>16110.00</td>\n",
       "      <td>acompanhamento</td>\n",
       "    </tr>\n",
       "  </tbody>\n",
       "</table>\n",
       "<p>107 rows × 4 columns</p>\n",
       "</div>"
      ],
      "text/plain": [
       "         Cliente Responsável      MRR            Fase\n",
       "0      cliente 1         ana 15971.00  acompanhamento\n",
       "1     cliente 10      rafael  1299.00      onboarding\n",
       "2    cliente 108       pedro  2890.00          adoção\n",
       "3    cliente 109       pedro  1165.00          adoção\n",
       "4     cliente 11         ana 17629.00          adoção\n",
       "..           ...         ...      ...             ...\n",
       "102    cliente 9       pedro  3820.00          adoção\n",
       "103   cliente 90      rafael  3029.00  acompanhamento\n",
       "104   cliente 91         ana 12346.00          adoção\n",
       "105   cliente 92         ana 11240.00  acompanhamento\n",
       "106   cliente 93         ana 16110.00  acompanhamento\n",
       "\n",
       "[107 rows x 4 columns]"
      ]
     },
     "metadata": {},
     "output_type": "display_data"
    }
   ],
   "source": [
    "display(clientes)"
   ]
  },
  {
   "cell_type": "markdown",
   "id": "64d1fcc9-987a-46f3-8986-40eb7246a02b",
   "metadata": {},
   "source": [
    "### Análise Exploratória"
   ]
  },
  {
   "cell_type": "code",
   "execution_count": 412,
   "id": "6711c1fb-399c-4166-81f1-e6d70b11c17f",
   "metadata": {},
   "outputs": [
    {
     "data": {
      "text/html": [
       "<div>\n",
       "<style scoped>\n",
       "    .dataframe tbody tr th:only-of-type {\n",
       "        vertical-align: middle;\n",
       "    }\n",
       "\n",
       "    .dataframe tbody tr th {\n",
       "        vertical-align: top;\n",
       "    }\n",
       "\n",
       "    .dataframe thead th {\n",
       "        text-align: right;\n",
       "    }\n",
       "</style>\n",
       "<table border=\"1\" class=\"dataframe\">\n",
       "  <thead>\n",
       "    <tr style=\"text-align: right;\">\n",
       "      <th></th>\n",
       "      <th>Cliente</th>\n",
       "      <th>Interações</th>\n",
       "    </tr>\n",
       "  </thead>\n",
       "  <tbody>\n",
       "    <tr>\n",
       "      <th>13</th>\n",
       "      <td>cliente 21</td>\n",
       "      <td>40</td>\n",
       "    </tr>\n",
       "    <tr>\n",
       "      <th>2</th>\n",
       "      <td>cliente 11</td>\n",
       "      <td>34</td>\n",
       "    </tr>\n",
       "    <tr>\n",
       "      <th>10</th>\n",
       "      <td>cliente 19</td>\n",
       "      <td>29</td>\n",
       "    </tr>\n",
       "    <tr>\n",
       "      <th>44</th>\n",
       "      <td>cliente 5</td>\n",
       "      <td>27</td>\n",
       "    </tr>\n",
       "    <tr>\n",
       "      <th>88</th>\n",
       "      <td>cliente 9</td>\n",
       "      <td>26</td>\n",
       "    </tr>\n",
       "    <tr>\n",
       "      <th>77</th>\n",
       "      <td>cliente 8</td>\n",
       "      <td>25</td>\n",
       "    </tr>\n",
       "    <tr>\n",
       "      <th>55</th>\n",
       "      <td>cliente 6</td>\n",
       "      <td>25</td>\n",
       "    </tr>\n",
       "    <tr>\n",
       "      <th>33</th>\n",
       "      <td>cliente 4</td>\n",
       "      <td>24</td>\n",
       "    </tr>\n",
       "    <tr>\n",
       "      <th>16</th>\n",
       "      <td>cliente 24</td>\n",
       "      <td>24</td>\n",
       "    </tr>\n",
       "    <tr>\n",
       "      <th>11</th>\n",
       "      <td>cliente 2</td>\n",
       "      <td>24</td>\n",
       "    </tr>\n",
       "  </tbody>\n",
       "</table>\n",
       "</div>"
      ],
      "text/plain": [
       "       Cliente  Interações\n",
       "13  cliente 21          40\n",
       "2   cliente 11          34\n",
       "10  cliente 19          29\n",
       "44   cliente 5          27\n",
       "88   cliente 9          26\n",
       "77   cliente 8          25\n",
       "55   cliente 6          25\n",
       "33   cliente 4          24\n",
       "16  cliente 24          24\n",
       "11   cliente 2          24"
      ]
     },
     "execution_count": 412,
     "metadata": {},
     "output_type": "execute_result"
    }
   ],
   "source": [
    "# Verificando o número de interações por cliente\n",
    "interacoes_cliente = atividades.groupby('Cliente').size().reset_index(name='Interações')\n",
    "\n",
    "# Exibir as 10 empresas com mais interações\n",
    "interacoes_cliente.sort_values(by='Interações', ascending=False).head(10)"
   ]
  },
  {
   "cell_type": "code",
   "execution_count": 413,
   "id": "7eadf2ee-6dd6-4cdf-89c7-0d2e89981071",
   "metadata": {},
   "outputs": [
    {
     "name": "stdout",
     "output_type": "stream",
     "text": [
      "Fase\n",
      "acompanhamento   8623.64\n",
      "adoção           8509.65\n",
      "onboarding       7708.47\n",
      "Name: MRR, dtype: float64\n"
     ]
    }
   ],
   "source": [
    "# Juntando as duas bases para usar o MRR na análise\n",
    "df_merged = pd.merge(atividades, clientes, left_on='Cliente', right_on='Cliente', how='left')\n",
    "\n",
    "# Média de MRR por fase\n",
    "mrr_fase = df_merged.groupby('Fase')['MRR'].mean()\n",
    "print(mrr_fase)"
   ]
  },
  {
   "cell_type": "code",
   "execution_count": 414,
   "id": "988db1fa-068f-4285-8764-b2b6137f1dc4",
   "metadata": {},
   "outputs": [
    {
     "name": "stdout",
     "output_type": "stream",
     "text": [
      "Status\n",
      "concluída    833\n",
      "vencida      180\n",
      "Name: count, dtype: int64\n"
     ]
    }
   ],
   "source": [
    "# Contagem de atividades por status\n",
    "status_atividades = atividades['Status'].value_counts()\n",
    "print(status_atividades)"
   ]
  },
  {
   "cell_type": "markdown",
   "id": "c5911774-0e76-44c1-ba26-31c851c8fc2b",
   "metadata": {},
   "source": [
    "### Diferenciais na transformação dos Dados"
   ]
  },
  {
   "cell_type": "code",
   "execution_count": 416,
   "id": "5a7321f8-2507-4684-b8da-02bc05eaf95e",
   "metadata": {},
   "outputs": [],
   "source": [
    "# Clientes com MRR alto mas poucas interações\n",
    "resumo_ativos = df_merged.groupby(['Cliente', 'Fase']).agg(\n",
    "    interacoes=('Cliente', 'count'),\n",
    "    mrr=('MRR', 'mean')\n",
    ").reset_index()"
   ]
  },
  {
   "cell_type": "code",
   "execution_count": 417,
   "id": "04381414-6ff1-4c1b-8da6-01058f13f38b",
   "metadata": {},
   "outputs": [
    {
     "data": {
      "text/html": [
       "<div>\n",
       "<style scoped>\n",
       "    .dataframe tbody tr th:only-of-type {\n",
       "        vertical-align: middle;\n",
       "    }\n",
       "\n",
       "    .dataframe tbody tr th {\n",
       "        vertical-align: top;\n",
       "    }\n",
       "\n",
       "    .dataframe thead th {\n",
       "        text-align: right;\n",
       "    }\n",
       "</style>\n",
       "<table border=\"1\" class=\"dataframe\">\n",
       "  <thead>\n",
       "    <tr style=\"text-align: right;\">\n",
       "      <th></th>\n",
       "      <th>Cliente</th>\n",
       "      <th>Fase</th>\n",
       "      <th>interacoes</th>\n",
       "      <th>mrr</th>\n",
       "    </tr>\n",
       "  </thead>\n",
       "  <tbody>\n",
       "    <tr>\n",
       "      <th>82</th>\n",
       "      <td>cliente 84</td>\n",
       "      <td>acompanhamento</td>\n",
       "      <td>2</td>\n",
       "      <td>17334.00</td>\n",
       "    </tr>\n",
       "    <tr>\n",
       "      <th>92</th>\n",
       "      <td>cliente 93</td>\n",
       "      <td>acompanhamento</td>\n",
       "      <td>2</td>\n",
       "      <td>16110.00</td>\n",
       "    </tr>\n",
       "    <tr>\n",
       "      <th>90</th>\n",
       "      <td>cliente 91</td>\n",
       "      <td>adoção</td>\n",
       "      <td>2</td>\n",
       "      <td>12346.00</td>\n",
       "    </tr>\n",
       "    <tr>\n",
       "      <th>91</th>\n",
       "      <td>cliente 92</td>\n",
       "      <td>acompanhamento</td>\n",
       "      <td>1</td>\n",
       "      <td>11240.00</td>\n",
       "    </tr>\n",
       "    <tr>\n",
       "      <th>84</th>\n",
       "      <td>cliente 86</td>\n",
       "      <td>acompanhamento</td>\n",
       "      <td>2</td>\n",
       "      <td>7677.00</td>\n",
       "    </tr>\n",
       "    <tr>\n",
       "      <th>23</th>\n",
       "      <td>cliente 30</td>\n",
       "      <td>adoção</td>\n",
       "      <td>1</td>\n",
       "      <td>4753.00</td>\n",
       "    </tr>\n",
       "    <tr>\n",
       "      <th>83</th>\n",
       "      <td>cliente 85</td>\n",
       "      <td>onboarding</td>\n",
       "      <td>2</td>\n",
       "      <td>4139.00</td>\n",
       "    </tr>\n",
       "    <tr>\n",
       "      <th>85</th>\n",
       "      <td>cliente 87</td>\n",
       "      <td>acompanhamento</td>\n",
       "      <td>2</td>\n",
       "      <td>3684.00</td>\n",
       "    </tr>\n",
       "    <tr>\n",
       "      <th>89</th>\n",
       "      <td>cliente 90</td>\n",
       "      <td>acompanhamento</td>\n",
       "      <td>2</td>\n",
       "      <td>3029.00</td>\n",
       "    </tr>\n",
       "    <tr>\n",
       "      <th>86</th>\n",
       "      <td>cliente 88</td>\n",
       "      <td>acompanhamento</td>\n",
       "      <td>2</td>\n",
       "      <td>1892.00</td>\n",
       "    </tr>\n",
       "  </tbody>\n",
       "</table>\n",
       "</div>"
      ],
      "text/plain": [
       "       Cliente            Fase  interacoes      mrr\n",
       "82  cliente 84  acompanhamento           2 17334.00\n",
       "92  cliente 93  acompanhamento           2 16110.00\n",
       "90  cliente 91          adoção           2 12346.00\n",
       "91  cliente 92  acompanhamento           1 11240.00\n",
       "84  cliente 86  acompanhamento           2  7677.00\n",
       "23  cliente 30          adoção           1  4753.00\n",
       "83  cliente 85      onboarding           2  4139.00\n",
       "85  cliente 87  acompanhamento           2  3684.00\n",
       "89  cliente 90  acompanhamento           2  3029.00\n",
       "86  cliente 88  acompanhamento           2  1892.00"
      ]
     },
     "execution_count": 417,
     "metadata": {},
     "output_type": "execute_result"
    }
   ],
   "source": [
    "# Filtrando clientes com menos de 3 interações\n",
    "clientes_poucas_interacoes = resumo_ativos[resumo_ativos['interacoes'] < 3]\n",
    "clientes_poucas_interacoes.sort_values(by='mrr', ascending=False).head(10)"
   ]
  },
  {
   "cell_type": "markdown",
   "id": "1edce4d0-1f68-4e6f-97d3-07273f8a2068",
   "metadata": {},
   "source": [
    "### Criando gráficos para melhor visualizar os Insights"
   ]
  },
  {
   "cell_type": "code",
   "execution_count": 419,
   "id": "6c292378-532c-4d23-8a53-7a8ab0cd21d2",
   "metadata": {},
   "outputs": [
    {
     "data": {
      "image/png": "[encoded data removed]",
      "text/plain": [
       "<Figure size 640x480 with 1 Axes>"
      ]
     },
     "metadata": {},
     "output_type": "display_data"
    }
   ],
   "source": [
    "import matplotlib.pyplot as plt\n",
    "\n",
    "# Gráfico de barras do status das atividades\n",
    "status_atividades.plot(kind='bar', color='skyblue')\n",
    "plt.title('Status das Atividades')\n",
    "plt.xlabel('Status')\n",
    "plt.ylabel('Número de Atividades')\n",
    "plt.xticks(rotation=45)\n",
    "plt.show()"
   ]
  },
  {
   "cell_type": "markdown",
   "id": "ff472517-cdf6-499d-9b77-3d47d371efd4",
   "metadata": {},
   "source": [
    "# FIM"
   ]
  },
  {
   "cell_type": "markdown",
   "id": "b3111feb-5951-4607-94fc-28a65ca4ce7c",
   "metadata": {},
   "source": [
    "# Etapa 1 -  Análise de Dados\n",
    "### Quais os 3 principais insights sobre a performance do time?"
   ]
  },
  {
   "cell_type": "markdown",
   "id": "c5c8f19d-69f3-4970-a412-79a4b4d95bb7",
   "metadata": {},
   "source": [
    "### 1. Tarefas não concluídas (Mais de 15% das tarefas não estão concluídas, indicando que a equipe deve priorizar essas tarefas)"
   ]
  },
  {
   "cell_type": "code",
   "execution_count": 423,
   "id": "77046b3c-ea82-4605-9874-16fd45eb4fce",
   "metadata": {},
   "outputs": [
    {
     "name": "stdout",
     "output_type": "stream",
     "text": [
      "Total de atividades: 1013\n",
      "Tarefas não concluídas: 180 (17.77%)\n"
     ]
    }
   ],
   "source": [
    "total_atividades = len(atividades)\n",
    "\n",
    "# Quantas não possui data de conclusão\n",
    "nao_concluidas = atividades['Data de Conclusão'].isna().sum()\n",
    "\n",
    "# Percentual de não concluídas\n",
    "percentual_nao_concluidas = (nao_concluidas / total_atividades) * 100\n",
    "\n",
    "print(f\"Total de atividades: {total_atividades}\")\n",
    "print(f\"Tarefas não concluídas: {nao_concluidas} ({percentual_nao_concluidas:.2f}%)\")"
   ]
  },
  {
   "cell_type": "markdown",
   "id": "b2f25ccb-d78b-4eaf-9103-d3344b63194c",
   "metadata": {},
   "source": [
    "### Visualização em gráfico para melhor compreensão"
   ]
  },
  {
   "cell_type": "code",
   "execution_count": 426,
   "id": "a9e1fba5-2e8d-4d22-abce-e7a94376fa1b",
   "metadata": {},
   "outputs": [
    {
     "data": {
      "image/png": "[encoded data removed]",
      "text/plain": [
       "<Figure size 800x500 with 1 Axes>"
      ]
     },
     "metadata": {},
     "output_type": "display_data"
    }
   ],
   "source": [
    "import matplotlib.pyplot as plt\n",
    "import seaborn as sns\n",
    "\n",
    "# Estilo visual elegante\n",
    "sns.set_style(\"whitegrid\")\n",
    "\n",
    "# Dados\n",
    "concluidas = total_atividades - nao_concluidas\n",
    "nao_concluidas_valor = nao_concluidas\n",
    "categorias = ['Concluídas', 'Não Concluídas']\n",
    "valores = [concluidas, nao_concluidas_valor]\n",
    "cores = ['#4caf50', '#f44336']\n",
    "\n",
    "# Tamanho da figura\n",
    "plt.figure(figsize=(8, 5))\n",
    "\n",
    "# Criar gráfico de barras\n",
    "barras = plt.bar(categorias, valores, color=cores, edgecolor='black', linewidth=1.2)\n",
    "\n",
    "# Adicionar anotações nos valores das barras\n",
    "for barra in barras:\n",
    "    altura = barra.get_height()\n",
    "    plt.text(barra.get_x() + barra.get_width() / 2, altura + 0.5, f'{int(altura)}',\n",
    "             ha='center', va='bottom', fontsize=12, fontweight='bold')\n",
    "\n",
    "# Título e rótulos\n",
    "plt.title('Conclusão de Tarefas - 1º Tri 2025', fontsize=14, fontweight='bold')\n",
    "plt.ylabel('Quantidade', fontsize=12)\n",
    "plt.xticks(fontsize=11)\n",
    "plt.yticks(fontsize=11)\n",
    "\n",
    "# Melhorar o layout\n",
    "plt.tight_layout()\n",
    "plt.show()\n"
   ]
  },
  {
   "cell_type": "markdown",
   "id": "517cb79c-7fd5-4447-8eb0-e3b5499935d6",
   "metadata": {},
   "source": [
    "### 2. Atividades com alta prioridade não estão sendo concluídas no prazo, com risco direto para a experiência do cliente"
   ]
  },
  {
   "cell_type": "code",
   "execution_count": 429,
   "id": "e26b1ff7-9410-41b9-ac87-56b7e755703c",
   "metadata": {},
   "outputs": [
    {
     "name": "stdout",
     "output_type": "stream",
     "text": [
      "Total de atividades de Alta Prioridade: 435\n",
      "Atrasadas: 277\n",
      "Não Concluídas: 64\n"
     ]
    }
   ],
   "source": [
    "# Filtrar apenas atividades de alta prioridade\n",
    "alta_prioridade = atividades[atividades['Prioridade'].str.lower() == 'alta']\n",
    "\n",
    "# 1. Atrasadas (concluídas após o prazo)\n",
    "atrasadas = alta_prioridade[\n",
    "    (alta_prioridade['Data de Conclusão'].notna()) & \n",
    "    (alta_prioridade['Data de Conclusão'] > alta_prioridade['Prazo de Conclusão'])\n",
    "]\n",
    "\n",
    "# 2. Não concluídas\n",
    "nao_concluidas = alta_prioridade[alta_prioridade['Data de Conclusão'].isna()]\n",
    "\n",
    "# Resultado final\n",
    "print(f\"Total de atividades de Alta Prioridade: {len(alta_prioridade)}\")\n",
    "print(f\"Atrasadas: {len(atrasadas)}\")\n",
    "print(f\"Não Concluídas: {len(nao_concluidas)}\")"
   ]
  },
  {
   "cell_type": "markdown",
   "id": "ab566823-f509-490d-adb0-8f2c6dd5c750",
   "metadata": {},
   "source": [
    "### Em gráfico"
   ]
  },
  {
   "cell_type": "code",
   "execution_count": 431,
   "id": "39433fce-1e4b-4eec-bc28-7661df4d4569",
   "metadata": {},
   "outputs": [
    {
     "data": {
      "image/png": "[encoded data removed]",
      "text/plain": [
       "<Figure size 600x400 with 1 Axes>"
      ]
     },
     "metadata": {},
     "output_type": "display_data"
    }
   ],
   "source": [
    "plt.figure(figsize=(6,4))\n",
    "plt.bar(['Atrasadas', 'Não Concluídas'], [len(atrasadas), len(nao_concluidas)], color=['#e53935', '#fb8c00'])\n",
    "plt.title('Problemas em Atividades de Alta Prioridade')\n",
    "plt.ylabel('Quantidade')\n",
    "plt.show()"
   ]
  },
  {
   "cell_type": "markdown",
   "id": "848d3b92-a34e-4f91-a7e1-08701aa297a4",
   "metadata": {},
   "source": [
    "### 3. Ponto de melhoria que poderia ser executado para melhor organização das informações:\n",
    "### Foi constatado baixo uso do campo “Observações” e isso pode indicar perda de contexto das interações, podendo diminuir por exemplo a capacidade de tomar decisões baseadas no contexto anterior"
   ]
  },
  {
   "cell_type": "code",
   "execution_count": 433,
   "id": "bc0e8c6f-ff3c-48a9-b720-d44725d67298",
   "metadata": {},
   "outputs": [
    {
     "name": "stdout",
     "output_type": "stream",
     "text": [
      "Sem observação: 555 (54.8%)\n",
      "Observações informativas: 458 (45.2%)\n"
     ]
    }
   ],
   "source": [
    "# Contar quantas observações são apenas \"sem observação\"\n",
    "sem_obs = atividades[atividades['Observações'].str.lower().str.strip() == 'sem observação']\n",
    "com_obs = atividades[atividades['Observações'].str.lower().str.strip() != 'sem observação']\n",
    "\n",
    "# Totais\n",
    "total = len(atividades)\n",
    "\n",
    "print(f\"Sem observação: {len(sem_obs)} ({len(sem_obs)/total:.1%})\")\n",
    "print(f\"Observações informativas: {len(com_obs)} ({len(com_obs)/total:.1%})\")"
   ]
  },
  {
   "cell_type": "markdown",
   "id": "929d2152-0d16-4007-9d05-ad569436ca1f",
   "metadata": {},
   "source": [
    "#### Em gráfico"
   ]
  },
  {
   "cell_type": "code",
   "execution_count": 435,
   "id": "e6f7a6f2-d03a-47ed-bc24-7048e5737edb",
   "metadata": {},
   "outputs": [
    {
     "data": {
      "image/png": "[encoded data removed]",
      "text/plain": [
       "<Figure size 800x600 with 1 Axes>"
      ]
     },
     "metadata": {},
     "output_type": "display_data"
    }
   ],
   "source": [
    "import matplotlib.pyplot as plt\n",
    "\n",
    "# Contar quantas observações são apenas \"sem observação\"\n",
    "sem_obs = atividades[atividades['Observações'].str.lower().str.strip() == 'sem observação']\n",
    "com_obs = atividades[atividades['Observações'].str.lower().str.strip() != 'sem observação']\n",
    "\n",
    "# Totais\n",
    "total = len(atividades)\n",
    "percent_sem_obs = len(sem_obs) / total * 100\n",
    "percent_com_obs = len(com_obs) / total * 100\n",
    "\n",
    "# Criando o gráfico\n",
    "plt.figure(figsize=(8, 6))\n",
    "labels = ['Sem Observação', 'Observações Informativas']\n",
    "values = [len(sem_obs), len(com_obs)]\n",
    "colors = ['#f44336', '#4caf50']\n",
    "\n",
    "# Gráfico de barras\n",
    "plt.bar(labels, values, color=colors)\n",
    "\n",
    "# Adicionando as porcentagens e os números nas barras\n",
    "for i, v in enumerate(values):\n",
    "    plt.text(i, v + 20, f'{v} ({values[i]:.1f}%)', ha='center', color='white', fontsize=12, fontweight='bold')\n",
    "\n",
    "# Título e Labels\n",
    "plt.title('Qualidade das Observações nas Atividades', fontsize=14, fontweight='bold')\n",
    "plt.ylabel('Quantidade de Atividades', fontsize=12)\n",
    "plt.xlabel('Tipo de Observação', fontsize=12)\n",
    "\n",
    "# Mostrar o gráfico\n",
    "plt.tight_layout()\n",
    "plt.show()"
   ]
  },
  {
   "cell_type": "markdown",
   "id": "0771e88e-8cd2-4dd1-b7ec-32b8019f7d9f",
   "metadata": {},
   "source": [
    "### Etapa 2 - Quais são os principais insights sobre as reuniões e os contatos com os clientes?"
   ]
  },
  {
   "cell_type": "markdown",
   "id": "301407f2-5e5a-4d65-a11b-26f816239b0b",
   "metadata": {},
   "source": [
    "### 1 - Alguns clientes passaram o trimestre inteiro sem nenhum contato registrado, podendo gerar falha no processo de acompanhamento."
   ]
  },
  {
   "cell_type": "code",
   "execution_count": 438,
   "id": "5f6f6ac4-e7e3-41b1-b947-b5dc8160601d",
   "metadata": {},
   "outputs": [
    {
     "data": {
      "image/png": "[encoded data removed]",
      "text/plain": [
       "<Figure size 900x600 with 1 Axes>"
      ]
     },
     "metadata": {},
     "output_type": "display_data"
    }
   ],
   "source": [
    "import matplotlib.pyplot as plt\n",
    "import seaborn as sns\n",
    "\n",
    "# Dados\n",
    "clientes_com_atividade = atividades['Cliente'].unique()\n",
    "clientes_sem_contato = clientes[~clientes['Cliente'].isin(clientes_com_atividade)]\n",
    "\n",
    "# Contagens\n",
    "qtd_com_interacao = len(clientes_com_atividade)\n",
    "qtd_sem_interacao = len(clientes_sem_contato)\n",
    "total_clientes = qtd_com_interacao + qtd_sem_interacao\n",
    "\n",
    "# Estilo visual\n",
    "sns.set_style(\"whitegrid\")\n",
    "cores = sns.color_palette(\"Set2\", 2)\n",
    "\n",
    "# Gráfico\n",
    "plt.figure(figsize=(9, 6))\n",
    "barras = plt.bar(['Com Interação', 'Sem Interação'],\n",
    "                 [qtd_com_interacao, qtd_sem_interacao],\n",
    "                 color=cores, edgecolor='black', linewidth=1.2)\n",
    "\n",
    "# Anotar valores e porcentagens\n",
    "for barra in barras:\n",
    "    valor = barra.get_height()\n",
    "    percentual = valor / total_clientes * 100\n",
    "    plt.text(barra.get_x() + barra.get_width() / 2,\n",
    "             valor + 2,\n",
    "             f'{int(valor)}\\n({percentual:.1f}%)',\n",
    "             ha='center', va='bottom', fontsize=11, fontweight='bold')\n",
    "\n",
    "# Ajustar o limite do eixo Y\n",
    "plt.ylim(0, max(qtd_com_interacao, qtd_sem_interacao) * 1.20)\n",
    "\n",
    "# Título e rótulos\n",
    "plt.title('Clientes com e sem Interação no 1º Trimestre de 2025',\n",
    "          fontsize=14, fontweight='bold')\n",
    "plt.ylabel('Quantidade de Clientes', fontsize=12)\n",
    "plt.xlabel('Status de Interação', fontsize=12)\n",
    "plt.xticks(fontsize=11)\n",
    "plt.yticks(fontsize=11)\n",
    "\n",
    "# Layout final\n",
    "plt.tight_layout()\n",
    "plt.show()\n",
    "\n"
   ]
  },
  {
   "cell_type": "markdown",
   "id": "ce99d2f1-c8dd-490d-a135-d690329b0f0e",
   "metadata": {},
   "source": [
    "### 2 -  Muita concentração de atendimentos em poucos responsáveis pode  indicar sobrecarga em um funcionário, afetando a qualidade no atendimento e também o funcionário poderia ter burnout."
   ]
  },
  {
   "cell_type": "code",
   "execution_count": 441,
   "id": "6f3a2e1b-6616-4b5c-8ae1-74e4bd585b02",
   "metadata": {},
   "outputs": [
    {
     "data": {
      "image/png": "[encoded data removed]",
      "text/plain": [
       "<Figure size 900x500 with 1 Axes>"
      ]
     },
     "metadata": {},
     "output_type": "display_data"
    }
   ],
   "source": [
    "import matplotlib.pyplot as plt\n",
    "import seaborn as sns\n",
    "\n",
    "# Dados de atividades por responsável\n",
    "responsaveis_atividade = atividades['Responsável'].value_counts()\n",
    "\n",
    "# Estilo visual\n",
    "sns.set_style(\"whitegrid\")\n",
    "cores = sns.color_palette(\"Set2\", len(responsaveis_atividade))  # Usando a mesma paleta\n",
    "\n",
    "# Criando o gráfico de barras\n",
    "plt.figure(figsize=(9, 5))\n",
    "barras = plt.bar(responsaveis_atividade.index, responsaveis_atividade.values, \n",
    "                 color=cores, edgecolor='black', linewidth=1.2)\n",
    "\n",
    "# Adicionando rótulos nas barras\n",
    "for barra in barras:\n",
    "    altura = barra.get_height()\n",
    "    plt.text(barra.get_x() + barra.get_width() / 2,\n",
    "             altura + 0.5,\n",
    "             f'{int(altura)}',\n",
    "             ha='center', va='bottom',\n",
    "             fontsize=11, fontweight='bold')\n",
    "\n",
    "# Título e eixos\n",
    "plt.title('Distribuição de Atividades por Responsável', fontsize=14, fontweight='bold')\n",
    "plt.ylabel('Quantidade de Atividades', fontsize=12)\n",
    "plt.xlabel('Responsável', fontsize=12)\n",
    "plt.xticks(rotation=45, fontsize=11)\n",
    "plt.yticks(fontsize=11)\n",
    "\n",
    "# Finalização\n",
    "plt.tight_layout()\n",
    "plt.show()\n"
   ]
  },
  {
   "cell_type": "markdown",
   "id": "d93cb524-991a-4653-aa97-b0c3600f1b9c",
   "metadata": {},
   "source": [
    "### 3 - Clientes de alto MRR com baixa interação"
   ]
  },
  {
   "cell_type": "code",
   "execution_count": 442,
   "id": "6ce17e60-fa04-4644-8a9d-cd1ce016657f",
   "metadata": {},
   "outputs": [
    {
     "name": "stdout",
     "output_type": "stream",
     "text": [
      "Clientes com MRR > 10.000 e poucas interações:\n",
      "        Cliente      MRR  Qtd_Interacoes\n",
      "105  cliente 92 11240.00               1\n",
      "106  cliente 93 16110.00               2\n",
      "104  cliente 91 12346.00               2\n",
      "96   cliente 84 17334.00               2\n",
      "76   cliente 66 16257.00               7\n"
     ]
    }
   ],
   "source": [
    "# Contar número de atividades por cliente\n",
    "interacoes_por_cliente = atividades['Cliente'].value_counts().reset_index()\n",
    "interacoes_por_cliente.columns = ['Cliente', 'Qtd_Interacoes']\n",
    "\n",
    "# Juntar com a tabela de clientes\n",
    "clientes_com_interacoes = pd.merge(clientes, interacoes_por_cliente, on='Cliente', how='left').fillna(0)\n",
    "\n",
    "# Converter Qtd_Interacoes para inteiro\n",
    "clientes_com_interacoes['Qtd_Interacoes'] = clientes_com_interacoes['Qtd_Interacoes'].astype(int)\n",
    "\n",
    "# Ver clientes com MRR alto e poucas interações\n",
    "mrr_alto_baixa_interacao = clientes_com_interacoes[clientes_com_interacoes['MRR'] > 10000].sort_values('Qtd_Interacoes')\n",
    "\n",
    "print(\"Clientes com MRR > 10.000 e poucas interações:\")\n",
    "print(mrr_alto_baixa_interacao[['Cliente', 'MRR', 'Qtd_Interacoes']].head())\n"
   ]
  },
  {
   "cell_type": "code",
   "execution_count": 482,
   "id": "33d27b2f-cec3-43d8-b64d-d7017d86ea77",
   "metadata": {
    "scrolled": true
   },
   "outputs": [
    {
     "data": {
      "image/png": "[encoded data removed]",
      "text/plain": [
       "<Figure size 1000x500 with 1 Axes>"
      ]
     },
     "metadata": {},
     "output_type": "display_data"
    }
   ],
   "source": [
    "import matplotlib.pyplot as plt\n",
    "\n",
    "# Plotando o gráfico de barras horizontais\n",
    "plt.figure(figsize=(10, 5))\n",
    "\n",
    "# Barras para as interações\n",
    "plt.barh(top_mrr_baixo_contato['Cliente'], top_mrr_baixo_contato['Qtd_Interacoes'], color='#9c27b0', label='Qtd. Interações')\n",
    "\n",
    "# Adicionando as anotações de MRR na barra\n",
    "for i, (cliente, mrr, qtd_interacoes) in enumerate(zip(top_mrr_baixo_contato['Cliente'], \n",
    "                                                       top_mrr_baixo_contato['MRR'], \n",
    "                                                       top_mrr_baixo_contato['Qtd_Interacoes'])):\n",
    "    plt.text(qtd_interacoes + 0.2, i, f'MRR: {mrr}', va='center', ha='left', color='black', fontsize=10)\n",
    "\n",
    "# Definindo o título, rótulos e invertendo o eixo Y\n",
    "plt.xlabel('Quantidade de Interações')\n",
    "plt.title('Top 10 Clientes de Alto MRR com Poucas Interações')\n",
    "plt.gca().invert_yaxis()\n",
    "\n",
    "plt.show()\n"
   ]
  },
  {
   "cell_type": "markdown",
   "id": "15202dcc-3b4c-4198-802c-2e4060459e49",
   "metadata": {},
   "source": [
    "\n",
    "Ao cruzar MRR com a quantidade de atividades por cliente, surgem clientes com alto valor mensal recorrente recebendo poucas interações.\n",
    "Esses clientes são importantes financeiramente e deveriam ter uma atenção proporcional.\n"
   ]
  }
 ],
 "metadata": {
  "kernelspec": {
   "display_name": "Python [conda env:base] *",
   "language": "python",
   "name": "conda-base-py"
  },
  "language_info": {
   "codemirror_mode": {
    "name": "ipython",
    "version": 3
   },
   "file_extension": ".py",
   "mimetype": "text/x-python",
   "name": "python",
   "nbconvert_exporter": "python",
   "pygments_lexer": "ipython3",
   "version": "3.12.7"
  }
 },
 "nbformat": 4,
 "nbformat_minor": 5
}
